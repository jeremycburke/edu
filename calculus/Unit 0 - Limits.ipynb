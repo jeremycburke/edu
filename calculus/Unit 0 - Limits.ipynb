{
 "cells": [
  {
   "cell_type": "markdown",
   "id": "51562737",
   "metadata": {},
   "source": [
    "# Unit 0: Limits"
   ]
  },
  {
   "cell_type": "markdown",
   "id": "01965aba",
   "metadata": {},
   "source": [
    "## Introduction to Limits\n"
   ]
  },
  {
   "cell_type": "markdown",
   "id": "066ab7b8",
   "metadata": {},
   "source": [
    "### Approaching Limits"
   ]
  },
  {
   "cell_type": "markdown",
   "id": "8a9c56e6",
   "metadata": {},
   "source": [
    "Limits can be approached from both the left and right sides of the graph.  \n",
    "\n",
    "The left and the right side may be equal, different, or one may not exist either by going to infinity, negative infinity, or oscillating between many values.\n",
    "- Left does not have to equal right, vice versa.\n",
    "- Left and right may both exist but be different.\n",
    "- Left or right may not exist.\n",
    "- The value of f(a) does not have to be the same as the limit f(x) as x approaches a.\n"
   ]
  },
  {
   "cell_type": "markdown",
   "id": "6049730f",
   "metadata": {},
   "source": [
    "### The Overall Limit"
   ]
  },
  {
   "cell_type": "markdown",
   "id": "16815019",
   "metadata": {},
   "source": [
    "The limit is considered to be an overall limit, if:\n",
    "- It exists from both side of the function\n",
    "- Both the left and the right sides are equal."
   ]
  },
  {
   "cell_type": "markdown",
   "id": "efb64942",
   "metadata": {},
   "source": [
    "If\n",
    "\n",
    "- $lim x->a+ f(x) = lim x->a- f(x) = L$\n",
    " \n",
    "then\n",
    "\n",
    "- $lim x->a f(x) = L$\n",
    " \n",
    "Alternatively,\n",
    "\n",
    "- $f(x) -> L$ as $x -> a$\n",
    "\n",
    " \n",
    "Remember that $x$ is approaching $a$ but does not equal $a$."
   ]
  },
  {
   "cell_type": "markdown",
   "id": "883ca863",
   "metadata": {},
   "source": [
    "### Limit Laws"
   ]
  },
  {
   "cell_type": "markdown",
   "id": "df8bc916",
   "metadata": {},
   "source": [
    "If the limit of f(x) as x approaches a is L and the limit of g(x) as x approaches a is M, then: the limit of f(x) + g(x) as x approaches a is L + M.\n",
    "\n",
    "It will also work for subtraction, multiplication, and division. \n",
    "\n",
    "If $lim [x->a] f(x) = L$ and $lim [x->a] g(x) = M$, then:\n",
    "\n",
    "- $lim [x->a] [f(x) + g(x)] =  L + M$\n",
    "- $lim [x->a] [f(x) - g(x)] =  L - M$\n",
    "- $lim [x->a] [f(x) * g(x)] =  L * M$\n",
    "- $lim [x->a] [f(x) / g(x)] =  L / M$, if M != 0."
   ]
  },
  {
   "cell_type": "markdown",
   "id": "637d0fcf",
   "metadata": {},
   "source": [
    "### Examples"
   ]
  },
  {
   "cell_type": "code",
   "execution_count": 45,
   "id": "bfb5f35e",
   "metadata": {},
   "outputs": [],
   "source": [
    "# import packages\n",
    "import plotly.express as px\n",
    "import plotly.graph_objects as go\n",
    "import numpy as np\n",
    "import pandas as pd"
   ]
  },
  {
   "cell_type": "code",
   "execution_count": 46,
   "id": "cf69b18c",
   "metadata": {},
   "outputs": [],
   "source": [
    "def graph_function(\n",
    "    x_vals, \n",
    "    y_vals, \n",
    "    discontinuity_points=None, \n",
    "    discontinuity_values=None, \n",
    "    discontinuity_name=\"Undefined point\", \n",
    "    limit_x=None, \n",
    "    limit_y=None, \n",
    "    function_label='Function',\n",
    "    title='Graphing a Limit with Plotly',\n",
    "    xaxis_title='x',\n",
    "    yaxis_title='f(x)',\n",
    "    show_limit_lines=False,\n",
    "    xaxis_range=None\n",
    "):\n",
    "    \"\"\"\n",
    "    Plots a function using the provided x and y values, and optionally highlights points of discontinuity,\n",
    "    adds dashed limit lines, and an arrow annotation to the limit.\n",
    "\n",
    "    Parameters:\n",
    "    - x_vals (array-like): the x values of the function.\n",
    "    - y_vals (array-like): the y values of the function.\n",
    "    - discontinuity_points (list[float], optional): x positions where the function is undefined/discontinuous.\n",
    "    - discontinuity_values (list[float], optional): corresponding y values for discontinuity points if plotting a \"hole\".\n",
    "    - discontinuity_name (str, optional): legend name for the discontinuity marker.\n",
    "    - limit_x (float, optional): x value where the limit is highlighted (e.g., vertical dashed line).\n",
    "    - limit_y (float, optional): y value to highlight as the limiting value (e.g., horizontal dashed line).\n",
    "    - function_label (str): legend label for the main function.\n",
    "    - title (str)\n",
    "    - xaxis_title (str)\n",
    "    - yaxis_title (str)\n",
    "    - show_limit_lines (bool): Whether to show horizontal/vertical dashed lines to the limit point.\n",
    "    - xaxis_range (list of float, optional): range for x axis.\n",
    "    \"\"\"\n",
    "\n",
    "    fig = go.Figure()\n",
    "\n",
    "    # Plot the main function\n",
    "    fig.add_trace(go.Scatter(\n",
    "        x=x_vals,\n",
    "        y=y_vals,\n",
    "        mode='lines',\n",
    "        name=function_label,\n",
    "        line=dict(color='royalblue', width=3)\n",
    "    ))\n",
    "\n",
    "    # Optionally, plot discontinuity (\"hole\") markers\n",
    "    if discontinuity_points is not None and discontinuity_values is not None:\n",
    "        fig.add_trace(go.Scatter(\n",
    "            x=discontinuity_points,\n",
    "            y=discontinuity_values,\n",
    "            mode='markers',\n",
    "            marker=dict(color='white', size=10, line=dict(color='black', width=2)),\n",
    "            name=discontinuity_name\n",
    "        ))\n",
    "\n",
    "    # Optionally, dashed lines for limit value\n",
    "    if show_limit_lines and limit_x is not None and limit_y is not None:\n",
    "        fig.add_shape(type=\"line\",\n",
    "            x0=min(x_vals), y0=limit_y,\n",
    "            x1=limit_x, y1=limit_y,\n",
    "            line=dict(color=\"grey\", width=2, dash=\"dash\"),\n",
    "        )\n",
    "        fig.add_shape(type=\"line\",\n",
    "            x0=limit_x, y0=min(y_vals),\n",
    "            x1=limit_x, y1=limit_y,\n",
    "            line=dict(color=\"grey\", width=2, dash=\"dash\"),\n",
    "        )\n",
    "\n",
    "        # Optionally: add an annotation arrow to the limit point\n",
    "        fig.add_annotation(\n",
    "            x=limit_x,\n",
    "            y=limit_y,\n",
    "            text=\"\",\n",
    "            showarrow=True,\n",
    "            arrowhead=2,\n",
    "            arrowsize=1,\n",
    "            arrowwidth=1.5,\n",
    "            arrowcolor=\"red\",\n",
    "            ax=15,\n",
    "            ay=15\n",
    "        )\n",
    "\n",
    "    # Customize the layout\n",
    "    fig.update_layout(\n",
    "        title=title,\n",
    "        xaxis_title=xaxis_title,\n",
    "        yaxis_title=yaxis_title,\n",
    "        legend=dict(x=0.02, y=0.98),\n",
    "        font=dict(size=14)\n",
    "    )\n",
    "\n",
    "    if xaxis_range is not None:\n",
    "        fig.update_xaxes(range=xaxis_range)\n",
    "\n",
    "    fig.show()\n"
   ]
  },
  {
   "cell_type": "code",
   "execution_count": 53,
   "id": "fff5589a",
   "metadata": {},
   "outputs": [],
   "source": [
    "# Choose a function\n",
    "\n",
    "# function = lambda x: 2 * x + 1 # linear\n",
    "# function = lambda x: x**2 - 4 * x + 3 # quadratic\n",
    "# function = lambda x: x**3 # cubic\n",
    "# function = lambda x: 1 / (x + 1) # reciprocal\n",
    "# function = lambda x: abs(x - 2) # absolute value\n",
    "function = lambda x: (x**2 - 4) / (x - 2) # rational\n",
    "# function = lambda x: 3 # constant\n"
   ]
  },
  {
   "cell_type": "code",
   "execution_count": 54,
   "id": "6b00be1a",
   "metadata": {},
   "outputs": [],
   "source": [
    "# Graphing helpers\n",
    "def x_y_values(function, lower_bound, upper_bound, num_points):\n",
    "    # Generate a dense set of x values, avoiding x=2\n",
    "    x_vals_plot = np.linspace(lower_bound, upper_bound, num_points)\n",
    "    y_vals_plot = function(x_vals_plot)\n",
    "    \n",
    "    return x_vals_plot, y_vals_plot\n",
    "\n",
    "x_values, y_values = x_y_values(function, -50, 50, 200)\n"
   ]
  },
  {
   "cell_type": "code",
   "execution_count": 55,
   "id": "6b203a9f",
   "metadata": {},
   "outputs": [
    {
     "data": {
      "application/vnd.plotly.v1+json": {
       "config": {
        "plotlyServerURL": "https://plot.ly"
       },
       "data": [
        {
         "line": {
          "color": "royalblue",
          "width": 3
         },
         "mode": "lines",
         "name": "Function",
         "type": "scatter",
         "x": [
          -50,
          -49.49748743718593,
          -48.99497487437186,
          -48.49246231155779,
          -47.98994974874372,
          -47.48743718592965,
          -46.984924623115575,
          -46.482412060301506,
          -45.97989949748744,
          -45.47738693467337,
          -44.9748743718593,
          -44.472361809045225,
          -43.969849246231156,
          -43.46733668341709,
          -42.96482412060301,
          -42.462311557788944,
          -41.959798994974875,
          -41.45728643216081,
          -40.95477386934674,
          -40.45226130653266,
          -39.949748743718594,
          -39.447236180904525,
          -38.94472361809045,
          -38.44221105527638,
          -37.93969849246231,
          -37.437185929648244,
          -36.934673366834176,
          -36.4321608040201,
          -35.92964824120603,
          -35.42713567839196,
          -34.92462311557789,
          -34.42211055276382,
          -33.91959798994975,
          -33.41708542713568,
          -32.91457286432161,
          -32.41206030150754,
          -31.90954773869347,
          -31.4070351758794,
          -30.90452261306533,
          -30.402010050251256,
          -29.899497487437188,
          -29.39698492462312,
          -28.894472361809047,
          -28.391959798994975,
          -27.889447236180906,
          -27.386934673366838,
          -26.884422110552766,
          -26.381909547738694,
          -25.879396984924625,
          -25.376884422110557,
          -24.874371859296485,
          -24.371859296482413,
          -23.869346733668344,
          -23.366834170854275,
          -22.864321608040203,
          -22.36180904522613,
          -21.859296482412063,
          -21.356783919597994,
          -20.854271356783922,
          -20.35175879396985,
          -19.84924623115578,
          -19.346733668341713,
          -18.84422110552764,
          -18.34170854271357,
          -17.8391959798995,
          -17.336683417085432,
          -16.834170854271363,
          -16.331658291457288,
          -15.82914572864322,
          -15.32663316582915,
          -14.824120603015075,
          -14.321608040201006,
          -13.819095477386938,
          -13.31658291457287,
          -12.8140703517588,
          -12.311557788944725,
          -11.809045226130657,
          -11.306532663316588,
          -10.804020100502512,
          -10.301507537688444,
          -9.798994974874375,
          -9.296482412060307,
          -8.793969849246238,
          -8.291457286432163,
          -7.788944723618094,
          -7.286432160804026,
          -6.78391959798995,
          -6.2814070351758815,
          -5.778894472361813,
          -5.276381909547744,
          -4.773869346733676,
          -4.2713567839196,
          -3.7688442211055317,
          -3.266331658291463,
          -2.7638190954773876,
          -2.261306532663319,
          -1.7587939698492505,
          -1.256281407035182,
          -0.7537688442211135,
          -0.2512562814070378,
          0.2512562814070307,
          0.7537688442210992,
          1.2562814070351749,
          1.7587939698492434,
          2.261306532663312,
          2.7638190954773805,
          3.266331658291449,
          3.7688442211055246,
          4.271356783919593,
          4.773869346733662,
          5.276381909547737,
          5.778894472361806,
          6.281407035175874,
          6.783919597989943,
          7.2864321608040115,
          7.788944723618087,
          8.291457286432156,
          8.793969849246224,
          9.2964824120603,
          9.798994974874368,
          10.301507537688437,
          10.804020100502505,
          11.306532663316574,
          11.80904522613065,
          12.311557788944718,
          12.814070351758787,
          13.316582914572862,
          13.81909547738693,
          14.321608040201,
          14.824120603015075,
          15.326633165829136,
          15.829145728643212,
          16.331658291457273,
          16.83417085427135,
          17.336683417085425,
          17.839195979899486,
          18.34170854271356,
          18.844221105527637,
          19.3467336683417,
          19.849246231155774,
          20.35175879396985,
          20.85427135678391,
          21.356783919597987,
          21.85929648241205,
          22.361809045226124,
          22.8643216080402,
          23.36683417085426,
          23.869346733668337,
          24.3718592964824,
          24.874371859296474,
          25.37688442211055,
          25.87939698492461,
          26.381909547738687,
          26.884422110552762,
          27.386934673366824,
          27.8894472361809,
          28.391959798994975,
          28.894472361809036,
          29.396984924623112,
          29.899497487437174,
          30.40201005025125,
          30.904522613065325,
          31.407035175879386,
          31.909547738693462,
          32.41206030150752,
          32.9145728643216,
          33.417085427135675,
          33.919597989949736,
          34.42211055276381,
          34.92462311557789,
          35.42713567839195,
          35.929648241206024,
          36.4321608040201,
          36.93467336683416,
          37.43718592964824,
          37.9396984924623,
          38.442211055276374,
          38.94472361809045,
          39.44723618090451,
          39.94974874371859,
          40.45226130653265,
          40.954773869346724,
          41.4572864321608,
          41.95979899497486,
          42.46231155778894,
          42.96482412060301,
          43.467336683417074,
          43.96984924623115,
          44.472361809045225,
          44.974874371859286,
          45.47738693467336,
          45.97989949748742,
          46.4824120603015,
          46.984924623115575,
          47.487437185929636,
          47.98994974874371,
          48.49246231155777,
          48.99497487437185,
          49.497487437185924,
          50
         ],
         "y": [
          -48,
          -47.49748743718593,
          -46.99497487437186,
          -46.492462311557794,
          -45.98994974874372,
          -45.48743718592965,
          -44.98492462311557,
          -44.48241206030151,
          -43.97989949748744,
          -43.47738693467337,
          -42.9748743718593,
          -42.472361809045225,
          -41.969849246231156,
          -41.46733668341709,
          -40.96482412060301,
          -40.462311557788944,
          -39.959798994974875,
          -39.45728643216081,
          -38.95477386934674,
          -38.45226130653266,
          -37.949748743718594,
          -37.447236180904525,
          -36.94472361809045,
          -36.44221105527638,
          -35.93969849246231,
          -35.437185929648244,
          -34.934673366834176,
          -34.4321608040201,
          -33.92964824120603,
          -33.42713567839196,
          -32.92462311557789,
          -32.42211055276382,
          -31.919597989949747,
          -31.417085427135685,
          -30.914572864321617,
          -30.412060301507537,
          -29.90954773869347,
          -29.4070351758794,
          -28.904522613065332,
          -28.402010050251256,
          -27.899497487437188,
          -27.39698492462312,
          -26.894472361809044,
          -26.391959798994975,
          -25.889447236180906,
          -25.386934673366838,
          -24.884422110552766,
          -24.381909547738694,
          -23.87939698492463,
          -23.376884422110557,
          -22.874371859296485,
          -22.371859296482413,
          -21.869346733668344,
          -21.366834170854275,
          -20.864321608040207,
          -20.36180904522613,
          -19.859296482412063,
          -19.356783919597994,
          -18.854271356783922,
          -18.35175879396985,
          -17.84924623115578,
          -17.346733668341713,
          -16.84422110552764,
          -16.34170854271357,
          -15.839195979899499,
          -15.336683417085434,
          -14.834170854271365,
          -14.331658291457286,
          -13.82914572864322,
          -13.32663316582915,
          -12.824120603015075,
          -12.321608040201006,
          -11.819095477386938,
          -11.31658291457287,
          -10.8140703517588,
          -10.311557788944725,
          -9.809045226130657,
          -9.306532663316588,
          -8.804020100502512,
          -8.301507537688444,
          -7.798994974874375,
          -7.296482412060307,
          -6.793969849246238,
          -6.291457286432163,
          -5.788944723618094,
          -5.286432160804026,
          -4.78391959798995,
          -4.2814070351758815,
          -3.7788944723618134,
          -3.2763819095477444,
          -2.773869346733676,
          -2.2713567839196003,
          -1.7688442211055317,
          -1.266331658291463,
          -0.7638190954773877,
          -0.2613065326633191,
          0.2412060301507495,
          0.743718592964818,
          1.2462311557788865,
          1.7487437185929622,
          2.2512562814070307,
          2.7537688442210992,
          3.256281407035175,
          3.7587939698492434,
          4.261306532663313,
          4.76381909547738,
          5.266331658291449,
          5.768844221105525,
          6.271356783919593,
          6.773869346733662,
          7.276381909547738,
          7.778894472361806,
          8.281407035175874,
          8.783919597989943,
          9.286432160804011,
          9.788944723618087,
          10.291457286432156,
          10.793969849246224,
          11.2964824120603,
          11.798994974874368,
          12.301507537688437,
          12.804020100502505,
          13.306532663316574,
          13.809045226130648,
          14.311557788944718,
          14.814070351758787,
          15.316582914572862,
          15.81909547738693,
          16.321608040201,
          16.824120603015075,
          17.326633165829136,
          17.829145728643212,
          18.331658291457273,
          18.83417085427135,
          19.336683417085425,
          19.839195979899486,
          20.34170854271356,
          20.844221105527637,
          21.3467336683417,
          21.849246231155774,
          22.35175879396985,
          22.85427135678391,
          23.356783919597987,
          23.85929648241205,
          24.361809045226124,
          24.8643216080402,
          25.36683417085426,
          25.869346733668337,
          26.3718592964824,
          26.874371859296474,
          27.37688442211055,
          27.87939698492461,
          28.381909547738687,
          28.884422110552762,
          29.38693467336682,
          29.8894472361809,
          30.391959798994975,
          30.894472361809036,
          31.396984924623112,
          31.899497487437174,
          32.40201005025125,
          32.904522613065325,
          33.407035175879386,
          33.90954773869346,
          34.41206030150752,
          34.9145728643216,
          35.41708542713568,
          35.919597989949736,
          36.42211055276381,
          36.92462311557789,
          37.42713567839195,
          37.929648241206024,
          38.4321608040201,
          38.93467336683416,
          39.43718592964824,
          39.9396984924623,
          40.442211055276374,
          40.94472361809045,
          41.44723618090451,
          41.94974874371859,
          42.45226130653265,
          42.954773869346724,
          43.4572864321608,
          43.95979899497486,
          44.46231155778894,
          44.96482412060301,
          45.467336683417074,
          45.96984924623115,
          46.472361809045225,
          46.974874371859286,
          47.47738693467337,
          47.97989949748742,
          48.4824120603015,
          48.98492462311557,
          49.487437185929636,
          49.98994974874371,
          50.49246231155778,
          50.99497487437185,
          51.49748743718592,
          52
         ]
        }
       ],
       "layout": {
        "font": {
         "size": 14
        },
        "legend": {
         "x": 0.02,
         "y": 0.98
        },
        "template": {
         "data": {
          "bar": [
           {
            "error_x": {
             "color": "#2a3f5f"
            },
            "error_y": {
             "color": "#2a3f5f"
            },
            "marker": {
             "line": {
              "color": "#E5ECF6",
              "width": 0.5
             },
             "pattern": {
              "fillmode": "overlay",
              "size": 10,
              "solidity": 0.2
             }
            },
            "type": "bar"
           }
          ],
          "barpolar": [
           {
            "marker": {
             "line": {
              "color": "#E5ECF6",
              "width": 0.5
             },
             "pattern": {
              "fillmode": "overlay",
              "size": 10,
              "solidity": 0.2
             }
            },
            "type": "barpolar"
           }
          ],
          "carpet": [
           {
            "aaxis": {
             "endlinecolor": "#2a3f5f",
             "gridcolor": "white",
             "linecolor": "white",
             "minorgridcolor": "white",
             "startlinecolor": "#2a3f5f"
            },
            "baxis": {
             "endlinecolor": "#2a3f5f",
             "gridcolor": "white",
             "linecolor": "white",
             "minorgridcolor": "white",
             "startlinecolor": "#2a3f5f"
            },
            "type": "carpet"
           }
          ],
          "choropleth": [
           {
            "colorbar": {
             "outlinewidth": 0,
             "ticks": ""
            },
            "type": "choropleth"
           }
          ],
          "contour": [
           {
            "colorbar": {
             "outlinewidth": 0,
             "ticks": ""
            },
            "colorscale": [
             [
              0,
              "#0d0887"
             ],
             [
              0.1111111111111111,
              "#46039f"
             ],
             [
              0.2222222222222222,
              "#7201a8"
             ],
             [
              0.3333333333333333,
              "#9c179e"
             ],
             [
              0.4444444444444444,
              "#bd3786"
             ],
             [
              0.5555555555555556,
              "#d8576b"
             ],
             [
              0.6666666666666666,
              "#ed7953"
             ],
             [
              0.7777777777777778,
              "#fb9f3a"
             ],
             [
              0.8888888888888888,
              "#fdca26"
             ],
             [
              1,
              "#f0f921"
             ]
            ],
            "type": "contour"
           }
          ],
          "contourcarpet": [
           {
            "colorbar": {
             "outlinewidth": 0,
             "ticks": ""
            },
            "type": "contourcarpet"
           }
          ],
          "heatmap": [
           {
            "colorbar": {
             "outlinewidth": 0,
             "ticks": ""
            },
            "colorscale": [
             [
              0,
              "#0d0887"
             ],
             [
              0.1111111111111111,
              "#46039f"
             ],
             [
              0.2222222222222222,
              "#7201a8"
             ],
             [
              0.3333333333333333,
              "#9c179e"
             ],
             [
              0.4444444444444444,
              "#bd3786"
             ],
             [
              0.5555555555555556,
              "#d8576b"
             ],
             [
              0.6666666666666666,
              "#ed7953"
             ],
             [
              0.7777777777777778,
              "#fb9f3a"
             ],
             [
              0.8888888888888888,
              "#fdca26"
             ],
             [
              1,
              "#f0f921"
             ]
            ],
            "type": "heatmap"
           }
          ],
          "heatmapgl": [
           {
            "colorbar": {
             "outlinewidth": 0,
             "ticks": ""
            },
            "colorscale": [
             [
              0,
              "#0d0887"
             ],
             [
              0.1111111111111111,
              "#46039f"
             ],
             [
              0.2222222222222222,
              "#7201a8"
             ],
             [
              0.3333333333333333,
              "#9c179e"
             ],
             [
              0.4444444444444444,
              "#bd3786"
             ],
             [
              0.5555555555555556,
              "#d8576b"
             ],
             [
              0.6666666666666666,
              "#ed7953"
             ],
             [
              0.7777777777777778,
              "#fb9f3a"
             ],
             [
              0.8888888888888888,
              "#fdca26"
             ],
             [
              1,
              "#f0f921"
             ]
            ],
            "type": "heatmapgl"
           }
          ],
          "histogram": [
           {
            "marker": {
             "pattern": {
              "fillmode": "overlay",
              "size": 10,
              "solidity": 0.2
             }
            },
            "type": "histogram"
           }
          ],
          "histogram2d": [
           {
            "colorbar": {
             "outlinewidth": 0,
             "ticks": ""
            },
            "colorscale": [
             [
              0,
              "#0d0887"
             ],
             [
              0.1111111111111111,
              "#46039f"
             ],
             [
              0.2222222222222222,
              "#7201a8"
             ],
             [
              0.3333333333333333,
              "#9c179e"
             ],
             [
              0.4444444444444444,
              "#bd3786"
             ],
             [
              0.5555555555555556,
              "#d8576b"
             ],
             [
              0.6666666666666666,
              "#ed7953"
             ],
             [
              0.7777777777777778,
              "#fb9f3a"
             ],
             [
              0.8888888888888888,
              "#fdca26"
             ],
             [
              1,
              "#f0f921"
             ]
            ],
            "type": "histogram2d"
           }
          ],
          "histogram2dcontour": [
           {
            "colorbar": {
             "outlinewidth": 0,
             "ticks": ""
            },
            "colorscale": [
             [
              0,
              "#0d0887"
             ],
             [
              0.1111111111111111,
              "#46039f"
             ],
             [
              0.2222222222222222,
              "#7201a8"
             ],
             [
              0.3333333333333333,
              "#9c179e"
             ],
             [
              0.4444444444444444,
              "#bd3786"
             ],
             [
              0.5555555555555556,
              "#d8576b"
             ],
             [
              0.6666666666666666,
              "#ed7953"
             ],
             [
              0.7777777777777778,
              "#fb9f3a"
             ],
             [
              0.8888888888888888,
              "#fdca26"
             ],
             [
              1,
              "#f0f921"
             ]
            ],
            "type": "histogram2dcontour"
           }
          ],
          "mesh3d": [
           {
            "colorbar": {
             "outlinewidth": 0,
             "ticks": ""
            },
            "type": "mesh3d"
           }
          ],
          "parcoords": [
           {
            "line": {
             "colorbar": {
              "outlinewidth": 0,
              "ticks": ""
             }
            },
            "type": "parcoords"
           }
          ],
          "pie": [
           {
            "automargin": true,
            "type": "pie"
           }
          ],
          "scatter": [
           {
            "fillpattern": {
             "fillmode": "overlay",
             "size": 10,
             "solidity": 0.2
            },
            "type": "scatter"
           }
          ],
          "scatter3d": [
           {
            "line": {
             "colorbar": {
              "outlinewidth": 0,
              "ticks": ""
             }
            },
            "marker": {
             "colorbar": {
              "outlinewidth": 0,
              "ticks": ""
             }
            },
            "type": "scatter3d"
           }
          ],
          "scattercarpet": [
           {
            "marker": {
             "colorbar": {
              "outlinewidth": 0,
              "ticks": ""
             }
            },
            "type": "scattercarpet"
           }
          ],
          "scattergeo": [
           {
            "marker": {
             "colorbar": {
              "outlinewidth": 0,
              "ticks": ""
             }
            },
            "type": "scattergeo"
           }
          ],
          "scattergl": [
           {
            "marker": {
             "colorbar": {
              "outlinewidth": 0,
              "ticks": ""
             }
            },
            "type": "scattergl"
           }
          ],
          "scattermapbox": [
           {
            "marker": {
             "colorbar": {
              "outlinewidth": 0,
              "ticks": ""
             }
            },
            "type": "scattermapbox"
           }
          ],
          "scatterpolar": [
           {
            "marker": {
             "colorbar": {
              "outlinewidth": 0,
              "ticks": ""
             }
            },
            "type": "scatterpolar"
           }
          ],
          "scatterpolargl": [
           {
            "marker": {
             "colorbar": {
              "outlinewidth": 0,
              "ticks": ""
             }
            },
            "type": "scatterpolargl"
           }
          ],
          "scatterternary": [
           {
            "marker": {
             "colorbar": {
              "outlinewidth": 0,
              "ticks": ""
             }
            },
            "type": "scatterternary"
           }
          ],
          "surface": [
           {
            "colorbar": {
             "outlinewidth": 0,
             "ticks": ""
            },
            "colorscale": [
             [
              0,
              "#0d0887"
             ],
             [
              0.1111111111111111,
              "#46039f"
             ],
             [
              0.2222222222222222,
              "#7201a8"
             ],
             [
              0.3333333333333333,
              "#9c179e"
             ],
             [
              0.4444444444444444,
              "#bd3786"
             ],
             [
              0.5555555555555556,
              "#d8576b"
             ],
             [
              0.6666666666666666,
              "#ed7953"
             ],
             [
              0.7777777777777778,
              "#fb9f3a"
             ],
             [
              0.8888888888888888,
              "#fdca26"
             ],
             [
              1,
              "#f0f921"
             ]
            ],
            "type": "surface"
           }
          ],
          "table": [
           {
            "cells": {
             "fill": {
              "color": "#EBF0F8"
             },
             "line": {
              "color": "white"
             }
            },
            "header": {
             "fill": {
              "color": "#C8D4E3"
             },
             "line": {
              "color": "white"
             }
            },
            "type": "table"
           }
          ]
         },
         "layout": {
          "annotationdefaults": {
           "arrowcolor": "#2a3f5f",
           "arrowhead": 0,
           "arrowwidth": 1
          },
          "autotypenumbers": "strict",
          "coloraxis": {
           "colorbar": {
            "outlinewidth": 0,
            "ticks": ""
           }
          },
          "colorscale": {
           "diverging": [
            [
             0,
             "#8e0152"
            ],
            [
             0.1,
             "#c51b7d"
            ],
            [
             0.2,
             "#de77ae"
            ],
            [
             0.3,
             "#f1b6da"
            ],
            [
             0.4,
             "#fde0ef"
            ],
            [
             0.5,
             "#f7f7f7"
            ],
            [
             0.6,
             "#e6f5d0"
            ],
            [
             0.7,
             "#b8e186"
            ],
            [
             0.8,
             "#7fbc41"
            ],
            [
             0.9,
             "#4d9221"
            ],
            [
             1,
             "#276419"
            ]
           ],
           "sequential": [
            [
             0,
             "#0d0887"
            ],
            [
             0.1111111111111111,
             "#46039f"
            ],
            [
             0.2222222222222222,
             "#7201a8"
            ],
            [
             0.3333333333333333,
             "#9c179e"
            ],
            [
             0.4444444444444444,
             "#bd3786"
            ],
            [
             0.5555555555555556,
             "#d8576b"
            ],
            [
             0.6666666666666666,
             "#ed7953"
            ],
            [
             0.7777777777777778,
             "#fb9f3a"
            ],
            [
             0.8888888888888888,
             "#fdca26"
            ],
            [
             1,
             "#f0f921"
            ]
           ],
           "sequentialminus": [
            [
             0,
             "#0d0887"
            ],
            [
             0.1111111111111111,
             "#46039f"
            ],
            [
             0.2222222222222222,
             "#7201a8"
            ],
            [
             0.3333333333333333,
             "#9c179e"
            ],
            [
             0.4444444444444444,
             "#bd3786"
            ],
            [
             0.5555555555555556,
             "#d8576b"
            ],
            [
             0.6666666666666666,
             "#ed7953"
            ],
            [
             0.7777777777777778,
             "#fb9f3a"
            ],
            [
             0.8888888888888888,
             "#fdca26"
            ],
            [
             1,
             "#f0f921"
            ]
           ]
          },
          "colorway": [
           "#636efa",
           "#EF553B",
           "#00cc96",
           "#ab63fa",
           "#FFA15A",
           "#19d3f3",
           "#FF6692",
           "#B6E880",
           "#FF97FF",
           "#FECB52"
          ],
          "font": {
           "color": "#2a3f5f"
          },
          "geo": {
           "bgcolor": "white",
           "lakecolor": "white",
           "landcolor": "#E5ECF6",
           "showlakes": true,
           "showland": true,
           "subunitcolor": "white"
          },
          "hoverlabel": {
           "align": "left"
          },
          "hovermode": "closest",
          "mapbox": {
           "style": "light"
          },
          "paper_bgcolor": "white",
          "plot_bgcolor": "#E5ECF6",
          "polar": {
           "angularaxis": {
            "gridcolor": "white",
            "linecolor": "white",
            "ticks": ""
           },
           "bgcolor": "#E5ECF6",
           "radialaxis": {
            "gridcolor": "white",
            "linecolor": "white",
            "ticks": ""
           }
          },
          "scene": {
           "xaxis": {
            "backgroundcolor": "#E5ECF6",
            "gridcolor": "white",
            "gridwidth": 2,
            "linecolor": "white",
            "showbackground": true,
            "ticks": "",
            "zerolinecolor": "white"
           },
           "yaxis": {
            "backgroundcolor": "#E5ECF6",
            "gridcolor": "white",
            "gridwidth": 2,
            "linecolor": "white",
            "showbackground": true,
            "ticks": "",
            "zerolinecolor": "white"
           },
           "zaxis": {
            "backgroundcolor": "#E5ECF6",
            "gridcolor": "white",
            "gridwidth": 2,
            "linecolor": "white",
            "showbackground": true,
            "ticks": "",
            "zerolinecolor": "white"
           }
          },
          "shapedefaults": {
           "line": {
            "color": "#2a3f5f"
           }
          },
          "ternary": {
           "aaxis": {
            "gridcolor": "white",
            "linecolor": "white",
            "ticks": ""
           },
           "baxis": {
            "gridcolor": "white",
            "linecolor": "white",
            "ticks": ""
           },
           "bgcolor": "#E5ECF6",
           "caxis": {
            "gridcolor": "white",
            "linecolor": "white",
            "ticks": ""
           }
          },
          "title": {
           "x": 0.05
          },
          "xaxis": {
           "automargin": true,
           "gridcolor": "white",
           "linecolor": "white",
           "ticks": "",
           "title": {
            "standoff": 15
           },
           "zerolinecolor": "white",
           "zerolinewidth": 2
          },
          "yaxis": {
           "automargin": true,
           "gridcolor": "white",
           "linecolor": "white",
           "ticks": "",
           "title": {
            "standoff": 15
           },
           "zerolinecolor": "white",
           "zerolinewidth": 2
          }
         }
        },
        "title": {
         "text": "Graphing a Limit with Plotly"
        },
        "xaxis": {
         "title": {
          "text": "x"
         }
        },
        "yaxis": {
         "title": {
          "text": "f(x)"
         }
        }
       }
      }
     },
     "metadata": {},
     "output_type": "display_data"
    }
   ],
   "source": [
    "# Graphing the function\n",
    "graph_function(\n",
    "    x_values,\n",
    "    y_values,\n",
    "    # discontinuity_points=[2],\n",
    "    # discontinuity_values=[4],\n",
    "    # discontinuity_name=\"Undefined point at x=2\",\n",
    "    # limit_x=2,\n",
    "    # limit_y=4,\n",
    "    # function_label=r'$f(x) = \\frac{x^2-4}{x-2}$',\n",
    "    title='Graphing a Limit with Plotly',\n",
    "    xaxis_title='x',\n",
    "    yaxis_title='f(x)',\n",
    "    show_limit_lines=True,\n",
    "    # xaxis_range=[0, 4]\n",
    ")\n"
   ]
  },
  {
   "cell_type": "code",
   "execution_count": 34,
   "id": "e87da0db",
   "metadata": {},
   "outputs": [],
   "source": [
    "def m(x):\n",
    "    return x^2\n"
   ]
  },
  {
   "cell_type": "markdown",
   "id": "3cea8cf7",
   "metadata": {},
   "source": []
  },
  {
   "cell_type": "markdown",
   "id": "10c0bdda",
   "metadata": {},
   "source": [
    "# Continuity"
   ]
  },
  {
   "cell_type": "markdown",
   "id": "048c60bc",
   "metadata": {},
   "source": [
    "### Continuity"
   ]
  },
  {
   "cell_type": "markdown",
   "id": "19c74f03",
   "metadata": {},
   "source": [
    "$f$ is both **right and left continuous** at $x = a$ if:\n",
    "- $f(a)$ exists\n",
    "- $lim x->a f(x)$ exists from both sides\n",
    "- $lim x->a f(x) = f(a)$\n",
    "\n",
    "$f$ can be right continuous at $x = a$ if:\n",
    "- $f(a)$ exists\n",
    "- $lim x->a+ f(x)$ exists\n",
    "- $lim x->a+ f(x) = f(a)$\n",
    "\n",
    "$f$ can be left continuous at $x = a$ if:\n",
    "- $f(a)$ exists\n",
    "- $lim x->a- f(x)$ exists\n",
    "- $lim x->a- f(x) = f(a)$"
   ]
  },
  {
   "cell_type": "markdown",
   "id": "2187bbdb",
   "metadata": {},
   "source": [
    "### Overall Continuity"
   ]
  },
  {
   "cell_type": "markdown",
   "id": "b9119b5a",
   "metadata": {},
   "source": [
    "A function $f(x)$ is continuous if for every point $c$ in the domain of $f(x)$, the function $f$ is continuous at the point $x = c$.\n",
    "\n",
    "- this mean there are not breaks, jumps, or holes in the graph of the function.\n",
    "- this means the limit of the function equals the value of the function at that point.\n",
    "\n",
    "Examples:\n",
    "- all polynomials\n",
    "- 3sqrt(x)\n",
    "- g(x) = x\n",
    "- |x|\n",
    "- sin(x)\n",
    "- cos(x)\n",
    "- tan(x) = sin(x) / cos(x)\n",
    "- exponential functions a^x with base a > 0\n",
    "- two discontinuous functions added together\n",
    "\n",
    "Functions are continuous, or right continuous, at the specific values of x:\n",
    "- sqrt(x) at x => 0\n",
    "- tan(x), at all x where it is defined\n",
    "- logarithmic function loga(x) with a base a > 0, for x > 0"
   ]
  },
  {
   "cell_type": "markdown",
   "id": "1e4e8faf",
   "metadata": {},
   "source": [
    "### Limit Laws & Continuity"
   ]
  },
  {
   "cell_type": "markdown",
   "id": "2c059aa4",
   "metadata": {},
   "source": [
    "If $f$ and $g$ are continuous everywhere $x = a$, then:\n",
    "\n",
    "Their sum, difference, product, and quotient are continuous everywhere $x = a$.\n",
    "\n",
    "If: $h(x) = f(x) + g(x)$ is continuous everywhere $x = a$\\\n",
    "Then: $h(a) = f(a) + g(a)$ \n",
    "\n",
    "If: $h(x) = f(x) - g(x)$ is continuous everywhere $x = a$\\\n",
    "Then: $h(a) = f(a) - g(a)$ \n",
    "\n",
    "If: $h(x) = f(x) * g(x)$ is continuous everywhere $x = a$\\\n",
    "Then: $h(a) = f(a) * g(a)$ \n",
    "\n",
    "If: $h(x) = f(x) / g(x)$ is continuous where defined\\\n",
    "Then: $h(a) = f(a) / g(a)$ \n",
    "\n",
    "Then: $fog$ - continuous everywhere\n",
    "\n",
    "\n"
   ]
  },
  {
   "cell_type": "markdown",
   "id": "bdac4c77",
   "metadata": {},
   "source": [
    "Examples:\n",
    "- $5 * x * x +3x$ will make a continuous function, since all the individual parts are continuous.\n",
    "\n",
    "- $tan(x) = sin(x) + cos(x)$ is continuous everywhere, $cos(x) !=0$.\n",
    "\n",
    "Substitution:\n",
    "- $h(x) = f(g(a))$\n",
    "- $g(x) = g(a)$\n",
    "- $(f(g(x)) = f(g(a))$\n",
    "- $h(x) = h(a)$"
   ]
  },
  {
   "cell_type": "markdown",
   "id": "b67e08d4",
   "metadata": {},
   "source": [
    "### Intermediate Value Theorem (IVT)"
   ]
  },
  {
   "cell_type": "markdown",
   "id": "dd769f5f",
   "metadata": {},
   "source": [
    "If $f$ is continuous on the open interval $(a,b)$, right continuous at $a$, and left continuous at $b$, and $M$ is between $f(a)$ and $f(b)$, then there is **at least** one point **$c$** in $(a,b)$ where $f(c) = M$.\n",
    "\n",
    "$y = M$\n",
    "\n",
    "This is a nice theorem because it gives us a global solution to finding a potential solutions to an equation - **the root**. We do not need to know the exact value of $c$, only that it exists."
   ]
  },
  {
   "cell_type": "markdown",
   "id": "3156672d",
   "metadata": {},
   "source": [
    "### Basics - Using the IVT"
   ]
  },
  {
   "cell_type": "markdown",
   "id": "3ea56243",
   "metadata": {},
   "source": [
    "Use the intermediate value theorem to show that there is a root of the given equation on the interval of interest: a function $f(x)$ with certian properties, and an interval $[a,b]$ where $f(x)$ crosses another function $g(x)$ on the interval."
   ]
  },
  {
   "cell_type": "markdown",
   "id": "35400ae2",
   "metadata": {},
   "source": [
    "### Summary"
   ]
  },
  {
   "cell_type": "code",
   "execution_count": 57,
   "id": "0b67da20",
   "metadata": {},
   "outputs": [],
   "source": [
    "# All Functions\n",
    "# ├── Continuous Functions\n",
    "# │   ├── Polynomials (always continuous, always differentiable)\n",
    "# │   │   ├── Linear: 2x + 3\n",
    "# │   │   ├── Quadratic: x² - 5x + 6\n",
    "# │   │   └── Higher degree: x⁵ - 2x³ + 1\n",
    "# │   │\n",
    "# │   └── Non-polynomial Continuous\n",
    "# │       ├── e^x, sin(x), cos(x)\n",
    "# │       ├── √x (on [0,∞))\n",
    "# │       ├── |x| (not differentiable at 0)\n",
    "# │       └── Some rational functions\n",
    "# │\n",
    "# └── Discontinuous Functions\n",
    "#     ├── 1/x (at x=0)\n",
    "#     ├── ⌊x⌋ (at integers)\n",
    "#     └── Step functions"
   ]
  },
  {
   "cell_type": "markdown",
   "id": "25b39947",
   "metadata": {},
   "source": []
  }
 ],
 "metadata": {
  "kernelspec": {
   "display_name": "gispysci3.9",
   "language": "python",
   "name": "python3"
  },
  "language_info": {
   "codemirror_mode": {
    "name": "ipython",
    "version": 3
   },
   "file_extension": ".py",
   "mimetype": "text/x-python",
   "name": "python",
   "nbconvert_exporter": "python",
   "pygments_lexer": "ipython3",
   "version": "3.9.17"
  }
 },
 "nbformat": 4,
 "nbformat_minor": 5
}
